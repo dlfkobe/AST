{
 "cells": [
  {
   "cell_type": "code",
   "execution_count": 1,
   "metadata": {},
   "outputs": [],
   "source": [
    "# Problem setup\n",
    "\n",
    "# image size\n",
    "# H, W = 50505, 50505\n",
    "\n",
    "\n",
    "bg_ratio_base = 0.8\n",
    "bg_ratios = bg_ratio_base  # +np.random.rand() * (1-bg_ratio_base)\n",
    "\n",
    "# cats = [\"hello\", \"world\", \"foo\", \"bar\", \"baz\", \"qux\"]\n",
    "cats = [ \"Normal Glomerulus\", \"IFTA\", \"Renal Vessels\"]\n",
    "\n",
    "C = len(cats)"
   ]
  },
  {
   "cell_type": "code",
   "execution_count": 2,
   "metadata": {},
   "outputs": [],
   "source": [
    "# Program setup\n",
    "import numpy as np\n",
    "\n",
    "# patch size\n",
    "h, w = 512, 512\n",
    "# h, w = 224, 224\n",
    "# h, w = 4096, 4096\n",
    "\n",
    "# tile size\n",
    "# Ht, Wt = 1000, 1000\n",
    "Ht, Wt = 1000, 1000\n",
    "\n",
    "\n",
    "exclude_bg = False\n",
    "power = 1.2\n",
    "temperature = 1  # A temperature less than 1 will sharpen the distribution\n",
    "\n",
    "# data types (memory concerns)\n",
    "dtype_index = np.int8  # need to be able to store -1\n",
    "dtype_count = np.uint32  # need to be able to store global counts\n",
    "dtype_score = np.float64  # need to be able to work with global normalization and precision to satisfy \"sum to 1\" https://stackoverflow.com/a/46539921 subject to tolerance 1e-8 https://github.com/numpy/numpy/blob/c2b6ab9924271b96d3c783f7818723a1bb8f511a/numpy/random/mtrand/mtrand.pyx#L1093C46-L1093C50, and be careful with precision underflow\n",
    "\n",
    "# -- V\n",
    "# plot resize size\n",
    "Hp, Wp = 512, 512\n",
    "# image and plot data types\n",
    "dtype_value = np.float16  # need to be able to store original signal (image)\n",
    "dtype_plot = np.float32  # normalize for dtype_value, required for imshow"
   ]
  },
  {
   "cell_type": "code",
   "execution_count": 3,
   "metadata": {},
   "outputs": [],
   "source": [
    "# Sampling Program setup\n",
    "import numpy as np\n",
    "\n",
    "N = 200 # Number of samples\n",
    "size_variation_range = 0.1  # ±10% size variation\n",
    "rotation_range = 2 * np.pi  # 0-360° rotation variation"
   ]
  },
  {
   "cell_type": "code",
   "execution_count": 4,
   "metadata": {},
   "outputs": [],
   "source": [
    "# -- D\n",
    "# import numpy as np\n",
    "# from skimage.transform import rescale, resize, downscale_local_mean\n",
    "\n",
    "# mask = np.zeros((H, W), dtype=dtype_index)\n",
    "# %timeit rescale(mask, (1/Ht, 1/Wt), order=0, anti_aliasing=False).shape  # 62 ms ± 2.73 ms\n",
    "# %timeit resize(mask, (H//Ht, W//Wt), order=0, anti_aliasing=False).shape  # 61.8 ms ± 2.08 ms\n",
    "# %timeit downscale_local_mean(mask, (Ht, Wt)).shape  # 1.5 s ± 11.5 ms\n",
    "\n",
    "# mask_oh = np.zeros((H, W, C), dtype=dtype_index)\n",
    "# %timeit rescale(mask_oh, (1/Ht, 1/Wt, 1), order=0, anti_aliasing=False).shape  # 520 ms ± 6.19 ms\n",
    "# %timeit resize(mask_oh, (H//Ht, W//Wt), order=0, anti_aliasing=False).shape  # 528 ms ± 11.1 ms\n",
    "# %timeit downscale_local_mean(mask_oh, (Ht, Wt, C)).shape  # 9.56 s ± 60.7 ms\n",
    "\n",
    "# count = np.zeros((H, W, C), dtype=dtype_count)\n",
    "# %timeit rescale(count, (1/Ht, 1/Wt, 1), order=0, anti_aliasing=False).shape  # 23.1 s ± 433 ms\n",
    "# %timeit resize(count, (H//Ht, W//Wt), order=0, anti_aliasing=False).shape  # 23 s ± 494 ms\n",
    "# %timeit downscale_local_mean(count, (Ht, Wt, C)).shape  # 3.1 s ± 382 ms\n",
    "\n",
    "# score = np.zeros((H, W), dtype=dtype_score)\n",
    "# %timeit rescale(score, (1/Ht, 1/Wt), order=0, anti_aliasing=False).shape  # 706 ms ± 32.4\n",
    "# %timeit resize(score, (H//Ht, W//Wt), order=0, anti_aliasing=False).shape  # 685 ms ± 16.7 ms\n",
    "# %timeit downscale_local_mean(score, (Ht, Wt)).shape  # 8.55 s ± 302 ms\n",
    "\n",
    "# channel = np.zeros((H, W), dtype=dtype_value)\n",
    "# %timeit rescale(channel, (1/Ht, 1/Wt), order=0, anti_aliasing=False).shape  # 4.37 s ± 76.4 ms\n",
    "# %timeit resize(channel, (H//Ht, W//Wt), order=0, anti_aliasing=False).shape  # 4.51 s ± 77.4 ms\n",
    "# %timeit downscale_local_mean(channel, (Ht, Wt)).shape  # 4.25 s ± 15.7 ms\n",
    "\n",
    "# image = np.zeros((H, W, 3), dtype=dtype_value)\n",
    "# %timeit rescale(image, (1/Ht, 1/Wt, 1), order=0, anti_aliasing=False).shape  # 22.7 s ± 166 ms\n",
    "# %timeit resize(image, (H//Ht, W//Wt), order=0, anti_aliasing=False).shape  # 22.8 s ± 178 ms\n",
    "# %timeit downscale_local_mean(image, (Ht, Wt, 3)).shape  # 13.2 s ± 141 ms"
   ]
  },
  {
   "cell_type": "code",
   "execution_count": 5,
   "metadata": {},
   "outputs": [],
   "source": [
    "from skimage.transform import resize\n",
    "import matplotlib.pyplot as plt\n",
    "\n",
    "\n",
    "def ecoimshow(image, ax=None, dtype=None, Hp=Hp, Wp=Wp, axis_off=True, aspect_equal=True, **kwargs):\n",
    "    if ax is None:\n",
    "        ax = plt.gca()\n",
    "    if dtype is not None:\n",
    "        image = image.astype(dtype)\n",
    "    rH, rW = image.shape[:2] / np.array([Hp, Wp])\n",
    "    if rH > rW:\n",
    "        Hp_ = Hp\n",
    "        Wp_ = int(Wp * rW / rH)\n",
    "    else:\n",
    "        Hp_ = int(Hp * rH / rW)\n",
    "        Wp_ = Wp\n",
    "    image = resize(image, (Hp_, Wp_), order=0, anti_aliasing=False)\n",
    "    default_kwargs = dict(interpolation='nearest')\n",
    "    default_kwargs.update(kwargs)\n",
    "    handle = ax.imshow(image, **default_kwargs)\n",
    "    if axis_off:\n",
    "        ax.axis('off')\n",
    "    if aspect_equal:\n",
    "        ax.set_aspect('equal')\n",
    "    return handle"
   ]
  },
  {
   "cell_type": "code",
   "execution_count": 6,
   "metadata": {},
   "outputs": [],
   "source": [
    "# Generate masks information for each category\n",
    "import numpy as np\n",
    "\n",
    "# cat_ratios = np.random.dirichlet(np.ones(C)).astype(dtype_score) * (1 - bg_ratios)\n",
    "# print(cat_ratios, cat_ratios.sum())\n",
    "\n",
    "# -- V\n",
    "cat2id = {cat: i + 1 for i, cat in enumerate(cats)}\n",
    "cat_colors = np.random.rand(C, 3).tolist()"
   ]
  },
  {
   "cell_type": "code",
   "execution_count": 7,
   "metadata": {},
   "outputs": [],
   "source": [
    "# # %%prun\n",
    "# # Generate image\n",
    "# # NB: can be skipped safely\n",
    "\n",
    "# # -- V\n",
    "# from skimage import data\n",
    "# from skimage.transform import resize\n",
    "\n",
    "# image = data.cat().astype(dtype_value) / 255\n",
    "# mosaic = np.array((100, 100))  # for textual in debug\n",
    "# image = resize(image, (H, W) / mosaic, order=0, anti_aliasing=False)\n",
    "# image = resize(image, (H, W), order=0, anti_aliasing=False)\n",
    "# ecoimshow(image)"
   ]
  },
  {
   "cell_type": "code",
   "execution_count": 8,
   "metadata": {},
   "outputs": [],
   "source": [
    "# # Generate masks\n",
    "# import numpy as np\n",
    "# from skimage import draw\n",
    "\n",
    "# mask_ells = {}\n",
    "\n",
    "# for cat, ratio in sorted(zip(cats, cat_ratios), key=lambda x: -x[1]):\n",
    "#     # print(cat, ratio)\n",
    "#     mask_ells[cat] = []\n",
    "#     regions = np.random.randint(1, 10)\n",
    "#     for _ in range(regions):\n",
    "#         # generate a region for this category, expecting to match the ratio\n",
    "#         # of the category\n",
    "#         x = np.random.randint(0, W)\n",
    "#         y = np.random.randint(0, H)\n",
    "#         # area = pi * h * w = H * W * ratio / regions\n",
    "#         ell_hw = H * W * ratio / regions / np.pi\n",
    "#         mu, sigma = 0.5, 0.02\n",
    "#         ell_h = ell_hw ** np.random.normal(mu, sigma)\n",
    "#         ell_w = ell_hw / ell_h\n",
    "#         rot = np.random.rand() * np.pi\n",
    "#         # print(x, y, h, w, rot)\n",
    "#         mask_ells[cat].append((x, y, ell_h, ell_w, rot))\n",
    "\n",
    "# mask = np.zeros((H, W), dtype=dtype_index)\n",
    "\n",
    "# for cat, ells_ in mask_ells.items():\n",
    "#     for x, y, ell_h, ell_w, rot in ells_:\n",
    "#         rr, cc = draw.ellipse(y, x, ell_h, ell_w, rotation=rot, shape=(H, W))\n",
    "#         mask[rr, cc] = cat2id[cat]\n",
    "\n",
    "# print(\"Mask stats:\", mask.min(), mask.max(), mask.mean(), mask.std())"
   ]
  },
  {
   "cell_type": "code",
   "execution_count": 9,
   "metadata": {},
   "outputs": [],
   "source": [
    "# # -- D\n",
    "\n",
    "# # np.save(\"mask.npy\", mask)\n",
    "# mask = np.load(\"mask.npy\")\n",
    "from PIL import Image\n",
    "import numpy as np\n",
    "Image.MAX_IMAGE_PIXELS = None"
   ]
  },
  {
   "cell_type": "code",
   "execution_count": 10,
   "metadata": {},
   "outputs": [],
   "source": [
    "# 读取图片跟掩码\n",
    "mask_path = '/storage/disk-2/big_instance_masks_3_classes/S0000002_PAS_tissue_3.png'\n",
    "image_path = '/storage/disk-2/big_imgs_6_classes/S0000002_PAS_tissue_3.png'\n",
    "image = Image.open(image_path)\n",
    "mask = Image.open(mask_path)\n",
    "\n"
   ]
  },
  {
   "cell_type": "code",
   "execution_count": 11,
   "metadata": {},
   "outputs": [],
   "source": [
    "W,H, = image.size"
   ]
  },
  {
   "cell_type": "code",
   "execution_count": null,
   "metadata": {},
   "outputs": [],
   "source": []
  },
  {
   "cell_type": "code",
   "execution_count": 12,
   "metadata": {},
   "outputs": [],
   "source": [
    "\n",
    "# 如果需要将图像转换为 NumPy 数组进行进一步处理\n",
    "image = np.array(image)\n",
    "mask = np.array(mask)"
   ]
  },
  {
   "cell_type": "code",
   "execution_count": 13,
   "metadata": {},
   "outputs": [],
   "source": [
    "# Mask API to make sure the flexibility of the mask data structure\n",
    "# Could even be dynamical\n",
    "\n",
    "# retrieve from real mask\n",
    "# 01:03, 40.81it/s\n",
    "# a lot of memory\n",
    "def get_tile_mask_real(row, row_end, col, col_end):\n",
    "    tile_mask = mask[row:row_end, col:col_end]\n",
    "    return tile_mask\n",
    "\n",
    "# retrieve from generative mask\n",
    "# 01:15, 34.37it/s\n",
    "# cool but a bit slow\n",
    "# def get_tile_mask_gen(row, row_end, col, col_end):\n",
    "#     tile_mask = np.zeros((row_end-row, col_end-col), dtype=dtype_index)\n",
    "#     for cat, ells_ in mask_ells.items():\n",
    "#         for x, y, ell_h, ell_w, rot in ells_:\n",
    "#             x, y = x - col, y - row\n",
    "#             rr, cc = draw.ellipse(y, x, ell_h, ell_w, rotation=rot, shape=(row_end-row, col_end-col))\n",
    "#             tile_mask[rr, cc] = cat2id[cat]\n",
    "#     return tile_mask\n",
    "\n",
    "# retrieve from abstract mask\n",
    "# 16:16, 2.66it/s\n",
    "# painfully slow, and prone to errors ( in ellipse calculation )\n",
    "# def get_tile_mask_abs(row, row_end, col, col_end):\n",
    "#     tile_mask = np.zeros((row_end-row, col_end-col), dtype=dtype_index)\n",
    "#     rr, cc = np.meshgrid(np.arange(row, row_end), np.arange(col, col_end), indexing='ij')\n",
    "#     for cat, ells_ in mask_ells.items():\n",
    "#         for x, y, ell_h, ell_w, rot in ells_:\n",
    "#             x, y = x - col, y - row\n",
    "#             mask = ((cc-x) * np.cos(rot) + (rr-y) * np.sin(rot)) ** 2 / ell_w ** 2 + ((cc-x) * np.sin(rot) - (rr-y) * np.cos(rot)) ** 2 / ell_h ** 2 <= 1\n",
    "#             tile_mask[mask] = cat2id[cat]\n",
    "\n",
    "#     return tile_mask\n",
    "\n",
    "get_tile_mask = get_tile_mask_real\n",
    "\n",
    "# you can delete the mask to free memory if not using the real one and not going to visualize it\n",
    "# del mask"
   ]
  },
  {
   "cell_type": "code",
   "execution_count": 14,
   "metadata": {},
   "outputs": [
    {
     "data": {
      "text/plain": [
       "[<BarContainer object of 4 artists>]"
      ]
     },
     "execution_count": 14,
     "metadata": {},
     "output_type": "execute_result"
    },
    {
     "data": {
      "image/png": "[encoded data removed]",
      "text/plain": [
       "<Figure size 1000x500 with 3 Axes>"
      ]
     },
     "metadata": {},
     "output_type": "display_data"
    }
   ],
   "source": [
    "# %%prun\n",
    "# -- V\n",
    "from matplotlib.colors import ListedColormap\n",
    "import matplotlib.pyplot as plt\n",
    "import numpy as np\n",
    "\n",
    "\n",
    "def multiple_bar_chart(series, ax=None, margin=0.1, text_format=\"{:}\", ticks=None):\n",
    "    if ax is None:\n",
    "        ax = plt.gca()\n",
    "\n",
    "    bar_width = (1 - margin) / len(series)\n",
    "    series_len = max(map(len, series.values()))\n",
    "\n",
    "    labels, series_data = zip(*series.items())  # to maintain the order\n",
    "    bars = []\n",
    "    for i, bar_data in enumerate(series_data):\n",
    "        bar = ax.bar(np.arange(series_len) + i * bar_width, bar_data, width=bar_width)\n",
    "        for j, data in enumerate(bar_data):\n",
    "            ax.text(\n",
    "                j + i * bar_width,\n",
    "                data,\n",
    "                text_format.format(data),\n",
    "                ha=\"center\",\n",
    "                va=\"bottom\",\n",
    "            )\n",
    "        bars.append(bar)\n",
    "    ax.legend(labels)\n",
    "    if ticks is not None:\n",
    "        ax.set_xticks(np.arange(series_len) + (1 - margin - bar_width) / 2, ticks)\n",
    "    return bars\n",
    "\n",
    "\n",
    "bg_cmap = ListedColormap([[0, 0, 0]] + cat_colors)\n",
    "fig, axs = plt.subplots(1, 2, figsize=(10, 5))\n",
    "mask_im = ecoimshow(mask, ax=axs[0], cmap=bg_cmap)\n",
    "# Add color bar\n",
    "mask_cbar = fig.colorbar(mask_im, ax=axs[0], location=\"bottom\")\n",
    "mask_cbar.set_ticks((np.arange(C + 1) + 0.5) * C / (C + 1), labels=[\"bg\"] + cats)\n",
    "\n",
    "counts, _ = np.histogram(mask, bins=C + 1, range=(0, C + 1))\n",
    "multiple_bar_chart(\n",
    "    {\"mask\": counts / counts.sum()},\n",
    "    ax=axs[1],\n",
    "    text_format=\"{:.2%}\",\n",
    "    ticks=[\"bg\"] + cats,\n",
    ")"
   ]
  },
  {
   "cell_type": "code",
   "execution_count": null,
   "metadata": {},
   "outputs": [],
   "source": []
  },
  {
   "cell_type": "code",
   "execution_count": 15,
   "metadata": {},
   "outputs": [
    {
     "name": "stderr",
     "output_type": "stream",
     "text": [
      "100%|██████████| 216/216 [00:04<00:00, 43.92it/s]\n"
     ]
    }
   ],
   "source": [
    "from itertools import product\n",
    "import numpy as np\n",
    "from tqdm import tqdm\n",
    "\n",
    "global_category_count = np.zeros(C + 1, dtype=dtype_count)\n",
    "category_target = np.arange(C + 1)\n",
    "\n",
    "\n",
    "def collect_category_count(row, col):\n",
    "    row_end = min(row + Ht, H)\n",
    "    col_end = min(col + Wt, W)\n",
    "    tile_mask = get_tile_mask(row, row_end, col, col_end)\n",
    "    tile_category_count = np.sum(\n",
    "        tile_mask.reshape(-1, 1) == category_target, axis=0, dtype=dtype_count\n",
    "    )\n",
    "    return tile_category_count\n",
    "\n",
    "\n",
    "for row, col in tqdm(list(product(range(0, H, Ht), range(0, W, Wt)))):\n",
    "    global_category_count += collect_category_count(row, col)\n"
   ]
  },
  {
   "cell_type": "code",
   "execution_count": 16,
   "metadata": {},
   "outputs": [
    {
     "data": {
      "text/plain": [
       "array([202187221,   1202240,    114171,    210288], dtype=uint32)"
      ]
     },
     "execution_count": 16,
     "metadata": {},
     "output_type": "execute_result"
    }
   ],
   "source": [
    "global_category_count"
   ]
  },
  {
   "cell_type": "code",
   "execution_count": 17,
   "metadata": {},
   "outputs": [
    {
     "name": "stdout",
     "output_type": "stream",
     "text": [
      "[9.92505672e-01 5.90160947e-03 5.60447710e-04 1.03227114e-03]\n",
      "[3.44641141e-04 5.79601697e-02 6.10330421e-01 3.31364769e-01]\n"
     ]
    }
   ],
   "source": [
    "# 计算类别频率\n",
    "global_category_frequency = global_category_count.astype(dtype_score) / (H * W)\n",
    "\n",
    "# 处理频率为零的情况\n",
    "category_weights = np.zeros_like(global_category_frequency)\n",
    "\n",
    "# 计算非零频率类别的权重\n",
    "non_zero_frequency_mask = global_category_frequency > 0\n",
    "category_weights[non_zero_frequency_mask] = 1 / global_category_frequency[non_zero_frequency_mask]\n",
    "\n",
    "# 归一化权重，使其和为 1\n",
    "category_weights /= category_weights.sum()\n",
    "\n",
    "print(global_category_frequency)\n",
    "print(category_weights)\n"
   ]
  },
  {
   "cell_type": "code",
   "execution_count": 18,
   "metadata": {},
   "outputs": [],
   "source": [
    "# Prepare tiles\n",
    "import numpy as np\n",
    "\n",
    "h_half, w_half = h // 2, w // 2\n",
    "Hx, Wx = H + h, W + w\n",
    "Htx, Wtx = Ht + h, Wt + w\n",
    "\n",
    "# eXtented mask\n",
    "# maskx = np.empty((Hx, Wx), dtype=dtype_index)\n",
    "# maskx.fill(-1)\n",
    "\n",
    "# maskx[h_half:-h_half, w_half:-w_half] = mask  # memory copy\n",
    "# def get_tile_maskx(rowx, rowx_end, colx, colx_end):\n",
    "#     tile_maskx = maskx[rowx:rowx_end, colx:colx_end]\n",
    "#     return tile_maskx\n",
    "\n",
    "\n",
    "def get_tile_maskx(rowx, rowx_end, colx, colx_end):\n",
    "    # TODO: not sure if reusing the memory saves time\n",
    "    Htx_, Wtx_ = rowx_end - rowx, colx_end - colx\n",
    "    tile_maskx = np.empty((Htx_, Wtx_), dtype=dtype_index)\n",
    "    tile_maskx.fill(-1)\n",
    "\n",
    "    rowx_on_mask = rowx - h_half\n",
    "    rowx_end_on_mask = rowx_end - h_half\n",
    "    colx_on_mask = colx - w_half\n",
    "    colx_end_on_mask = colx_end - w_half\n",
    "\n",
    "    rowt, colt, rowt_end, colt_end = 0, 0, Htx_, Wtx_\n",
    "\n",
    "    # executive rows and columns are within the image\n",
    "    if rowx_on_mask < 0:\n",
    "        rowx_on_mask = 0\n",
    "        rowx_ = rowx_on_mask + h_half\n",
    "        rowt += rowx_ - rowx\n",
    "    if rowx_end_on_mask > H:\n",
    "        rowx_end_on_mask = H\n",
    "        rowx_end_ = rowx_end_on_mask + h_half\n",
    "        rowt_end += rowx_end_ - rowx_end\n",
    "    if colx_on_mask < 0:\n",
    "        colx_on_mask = 0\n",
    "        colx_ = colx_on_mask + w_half\n",
    "        colt += colx_ - colx\n",
    "    if colx_end_on_mask > W:\n",
    "        colx_end_on_mask = W\n",
    "        colx_end_ = colx_end_on_mask + w_half\n",
    "        colt_end += colx_end_ - colx_end\n",
    "\n",
    "    # print(\">\", rowx, rowx_end, colx, colx_end)  # -- d\n",
    "    # print(\">\", rowx_on_mask, rowx_end_on_mask, colx_on_mask, colx_end_on_mask)  # -- d\n",
    "    # print(\">\", rowt, rowt_end, colt, colt_end)  # -- d\n",
    "\n",
    "    tile_maskx[rowt:rowt_end, colt:colt_end] = get_tile_mask(\n",
    "        rowx_on_mask, rowx_end_on_mask, colx_on_mask, colx_end_on_mask\n",
    "    )\n",
    "    return tile_maskx\n",
    "\n",
    "# TODO: use retriever functions and lrucache\n",
    "# ground rows, indexed by row number\n",
    "ground_rowx = {}\n",
    "# ground columns, indexed by column number\n",
    "ground_colx = {}"
   ]
  },
  {
   "cell_type": "code",
   "execution_count": 56,
   "metadata": {},
   "outputs": [],
   "source": [
    "def one_hot(a, num_classes=None, dtype=dtype_index):\n",
    "    if num_classes is None:\n",
    "        num_classes = np.max(a) + 1  # handle 0\n",
    "    # print(a.min(), a.max())\n",
    "    # return np.eye(num_classes, dtype=dtype)[a.reshape(-1)].reshape(*a.shape, -1)\n",
    "    # handle -1\n",
    "    # it can be intepreted as the last index\n",
    "    # add a redundant class in the end and remove the column\n",
    "    index_matrix = np.eye(num_classes + 1, dtype=dtype)[:, :-1]\n",
    "    return index_matrix[a.ravel()].reshape(*a.shape, -1)\n",
    "\n",
    "\n",
    "def get_tile_cdix(rowx, colx):\n",
    "    # get the cumulative difference image (CDI) for the tile with extension margin\n",
    "    # given the context, the coordinates may never be out of bounds\n",
    "    # we still need to examine the boundary conditions for the last rows and cols\n",
    "    # noted the margin has fixed size but the tile size may vary\n",
    "    rowx_end = min(rowx + Ht + h, Hx)\n",
    "    colx_end = min(colx + Wt + w, Wx)\n",
    "    # tile_maskx = get_tile_maskx(rowx, rowx_end, colx, colx_end)\n",
    "    tile_maskx = get_tile_maskx(rowx, rowx_end, colx, colx_end)\n",
    "    # print(tile_maskx)\n",
    "    # print(tile_maskx_x)\n",
    "    # ecoimshow(tile_maskx, plt.subplot())\n",
    "    # ecoimshow(tile_maskx_x, plt.subplot())\n",
    "    # assert np.all(tile_maskx_x == tile_maskx)\n",
    "    tile_maskx_oh = one_hot(tile_maskx, C + 1)\n",
    "    # cumsum first so that the shape is preserved\n",
    "    tile_cdix = tile_maskx_oh.cumsum(axis=0, dtype=dtype_count).cumsum(\n",
    "        axis=1, dtype=dtype_count\n",
    "    )\n",
    "    tile_cdix += ground_rowx.get((rowx, colx), 0)\n",
    "    tile_cdix += ground_colx.get((rowx, colx), 0)\n",
    "\n",
    "    # update the ground rows and columns for the next tiles\n",
    "    ground_rowx[rowx_end - h, colx] = tile_cdix[[-h], :]\n",
    "    ground_colx[rowx, colx_end - w] = tile_cdix[:, [-w]]\n",
    "\n",
    "    return tile_cdix\n",
    "\n",
    "\n",
    "def get_tile_count(cdi_tx):\n",
    "    # noted the margin has fixed size but the tile size may vary\n",
    "    tile_cdi_top_left = cdi_tx[:-h, :-w]\n",
    "    tile_cdi_top_right = cdi_tx[:-h, w:]\n",
    "    tile_cdi_bottom_left = cdi_tx[h:, :-w]\n",
    "    tile_cdi_bottom_right = cdi_tx[h:, w:]\n",
    "\n",
    "    # The magic happens here: Full CDI sum centered at the windows\n",
    "    tile_count = (\n",
    "        tile_cdi_bottom_right\n",
    "        - tile_cdi_bottom_left\n",
    "        - tile_cdi_top_right\n",
    "        + tile_cdi_top_left\n",
    "    )\n",
    "    return tile_count\n",
    "\n",
    "\n",
    "# def get_tile_score(tile_count, area_count, exclude_bg=False, power=1):\n",
    "#     tile_proportions = tile_count.astype(dtype_score) / area_count\n",
    "\n",
    "#     if exclude_bg:\n",
    "#         calc_pr = tile_proportions[:, :, 1:]\n",
    "#         calc_wt = category_weights[1:]\n",
    "#     else:\n",
    "#         calc_pr = tile_proportions\n",
    "#         calc_wt = category_weights\n",
    "\n",
    "#     # Power to exaggerate the differences\n",
    "#     if power != 1:\n",
    "#         calc_wt = calc_wt**power\n",
    "#         calc_wt /= calc_wt.sum()  # Normalize category-wise\n",
    "\n",
    "#     # Do not scale local category proportions. It just tells us the local distribution.\n",
    "\n",
    "#     # Weighting the local category proportions and summing them up to get the map\n",
    "#     # Score is the unnormalized probability\n",
    "#     tile_score = calc_pr @ calc_wt\n",
    "\n",
    "#     # NB: temperature is not applied here as it is not normalized\n",
    "#     return tile_score\n",
    "# 新增参数\n",
    "# 新增参数\n",
    "p0 = 0.2  # 局部组织像素占比阈值\n",
    "beta = 0.5  # 局部密度得分增益系数\n",
    "gamma = 1  # 离散程度得分增益系数\n",
    "import numpy as np\n",
    "from skimage import measure\n",
    "from joblib import Parallel, delayed\n",
    "\n",
    "def calculate_num_components(valid_pixel_slice):\n",
    "    labeled_image = measure.label(valid_pixel_slice)\n",
    "    return len(np.unique(labeled_image)) - 1\n",
    "def get_tile_score(tile_count, area_count, exclude_bg=False, power=1):\n",
    "    tile_proportions = tile_count.astype(dtype_score) / area_count\n",
    "\n",
    "    if exclude_bg:\n",
    "        calc_pr = tile_proportions[:, :, 1:]\n",
    "        calc_wt = category_weights[1:]\n",
    "    else:\n",
    "        calc_pr = tile_proportions\n",
    "        calc_wt = category_weights\n",
    "\n",
    "    # Power to exaggerate the differences\n",
    "    if power != 1:\n",
    "        calc_wt = calc_wt**power\n",
    "        calc_wt /= calc_wt.sum()  # Normalize category-wise\n",
    "    # 计算局部组织像素总数（排除背景）\n",
    "    tissue_pixels = tile_count[:, :, 1:].sum(axis=-1)\n",
    "    area = area_count.squeeze()  # 图像块面积\n",
    "    p = tissue_pixels / area  # 局部组织像素占比\n",
    "\n",
    "    # 调整局部组织密度得分的计算方式\n",
    "    s_ld = beta * (1 - p)\n",
    "\n",
    "    # 判断是否为非全背景块\n",
    "    non_bg_mask = tissue_pixels > 0\n",
    "\n",
    "    # 计算未加组织密度权重的得分\n",
    "    base_score = calc_pr @ calc_wt\n",
    "\n",
    "    # 只对非全背景块加上组织密度权重\n",
    "    tile_score = base_score.copy()\n",
    "    tile_score[non_bg_mask] += s_ld[non_bg_mask]\n",
    "\n",
    "    return tile_score\n",
    "\n",
    "\n",
    "def get_area(rowx, colx, Htx_, Wtx_):\n",
    "    area_index = get_tile_maskx(rowx, rowx + Htx_, colx, colx + Wtx_) >= 0\n",
    "    area_cdix = area_index.cumsum(axis=0, dtype=dtype_count).cumsum(\n",
    "        axis=1, dtype=dtype_count\n",
    "    )\n",
    "    area_count = get_tile_count(area_cdix)\n",
    "    return area_count[:, :, np.newaxis]\n",
    "\n",
    "\n",
    "# NB: wrap the process_tile function to keep a clean namespace\n",
    "def process_tile_score(row, col, update_ground=True):\n",
    "    # print(row, col)\n",
    "    # NB: the tricky coordinate transformation:\n",
    "    # rowx_on_mask = row - h_half, rowx = rowx_on_mask + h_half = row\n",
    "    rowx = row\n",
    "    colx = col\n",
    "\n",
    "    tile_cdix = get_tile_cdix(rowx, colx)\n",
    "    Htx_, Wtx_ = tile_cdix.shape[:2]\n",
    "    if update_ground:\n",
    "        # update the ground rows and columns for the future tiles\n",
    "        ground_rowx[rowx + Htx_ - h, colx] = tile_cdix[[-h], :]\n",
    "        ground_colx[rowx, colx + Wtx_ - w] = tile_cdix[:, [-w]]\n",
    "\n",
    "    tile_count = get_tile_count(tile_cdix)\n",
    "    area_count = get_area(rowx, colx, Htx_, Wtx_)\n",
    "    tile_score = get_tile_score(\n",
    "        tile_count, area_count, exclude_bg=exclude_bg, power=power\n",
    "    )\n",
    "\n",
    "    return tile_score"
   ]
  },
  {
   "cell_type": "code",
   "execution_count": 57,
   "metadata": {},
   "outputs": [
    {
     "data": {
      "text/plain": [
       "(11789, 17280)"
      ]
     },
     "execution_count": 57,
     "metadata": {},
     "output_type": "execute_result"
    }
   ],
   "source": [
    "H,W"
   ]
  },
  {
   "cell_type": "code",
   "execution_count": 58,
   "metadata": {},
   "outputs": [
    {
     "name": "stderr",
     "output_type": "stream",
     "text": [
      "100%|██████████| 216/216 [00:28<00:00,  7.66it/s]"
     ]
    },
    {
     "name": "stdout",
     "output_type": "stream",
     "text": [
      "Probability map stats: 3.557837919879868e-06 0.07793150963442512 0.004629629629629629 0.014198436006705761\n"
     ]
    },
    {
     "name": "stderr",
     "output_type": "stream",
     "text": [
      "\n"
     ]
    }
   ],
   "source": [
    "from itertools import product\n",
    "import numpy as np\n",
    "from tqdm import tqdm\n",
    "\n",
    "\n",
    "# score = np.zeros((H, W), dtype=dtype_score)\n",
    "# sum of the scores for normalization\n",
    "Hs, Ws = np.ceil([H / Ht, W / Wt]).astype(int)\n",
    "score_map = np.empty((Hs, Ws), dtype=dtype_score)\n",
    "\n",
    "\n",
    "def collect_score_sum(row, col):\n",
    "    tile_score = process_tile_score(row, col)\n",
    "    # Ht_, Wt_ = tile_score.shape[:2]\n",
    "    # score[row:row + Ht_, col:col + Wt_] = tile_score\n",
    "    score_map[row // Ht, col // Wt] = tile_score.sum()\n",
    "\n",
    "\n",
    "# requires synchronization for the ground rows and columns\n",
    "for row, col in tqdm(list(product(range(0, H, Ht), range(0, W, Wt)))):\n",
    "    collect_score_sum(row, col)\n",
    "\n",
    "probability_map = score_map / score_map.sum()\n",
    "\n",
    "# Global temperature scaling\n",
    "# TODO: How to tile this?\n",
    "# if temperature != 1:\n",
    "#     non_zero = probability_sum_map > 0\n",
    "#     probability_sum_map[non_zero] = np.exp(np.log(probability_sum_map[non_zero]) / temperature)\n",
    "#     probability_sum_map = probability_sum_map / probability_sum_map.sum()  # Normalize globally\n",
    "\n",
    "probability_map.min(), probability_map.max()\n",
    "print(\"Probability map stats:\", probability_map.min(), probability_map.max(), probability_map.mean(), probability_map.std())"
   ]
  },
  {
   "cell_type": "code",
   "execution_count": 59,
   "metadata": {},
   "outputs": [
    {
     "data": {
      "image/png": "[encoded data removed]",
      "text/plain": [
       "<Figure size 640x480 with 3 Axes>"
      ]
     },
     "metadata": {},
     "output_type": "display_data"
    }
   ],
   "source": [
    "# -- V\n",
    "H_, W_ = Hs * Ht, Ws * Ht\n",
    "mask_im = ecoimshow(mask, cmap=bg_cmap, Hp=Hp * (H / H_), Wp=Wp * (W / W_))\n",
    "probability_map_im = ecoimshow(probability_map, cmap=\"gray\", alpha=0.5)\n",
    "\n",
    "sampled_cbar = plt.colorbar(probability_map_im)\n",
    "mask_cbar = plt.colorbar(mask_im, location=\"bottom\")\n",
    "mask_cbar.set_ticks((np.arange(C + 1) + 0.5) * C / (C + 1), labels=[\"bg\"] + cats)"
   ]
  },
  {
   "cell_type": "code",
   "execution_count": 60,
   "metadata": {},
   "outputs": [
    {
     "name": "stdout",
     "output_type": "stream",
     "text": [
      "Sampled Map stats: 0 18 0.9259259259259259 2.9382651208560056\n"
     ]
    }
   ],
   "source": [
    "# batch sampling for N samples\n",
    "\n",
    "import numpy as np\n",
    "\n",
    "\n",
    "index = np.arange(probability_map.size)\n",
    "prob = probability_map.ravel()\n",
    "\n",
    "ys, xs = np.unravel_index(np.random.choice(index, size=N, p=prob), (Hs, Ws))\n",
    "yxs = np.stack([ys, xs], axis=1)\n",
    "sample_map = np.zeros_like(score_map, dtype=dtype_count)\n",
    "for y, x in yxs:\n",
    "    sample_map[y, x] += 1\n",
    "\n",
    "print(\"Sampled Map stats:\", sample_map.min(), sample_map.max(), sample_map.mean(), sample_map.std())"
   ]
  },
  {
   "cell_type": "code",
   "execution_count": 61,
   "metadata": {},
   "outputs": [
    {
     "data": {
      "image/png": "[encoded data removed]",
      "text/plain": [
       "<Figure size 640x480 with 3 Axes>"
      ]
     },
     "metadata": {},
     "output_type": "display_data"
    }
   ],
   "source": [
    "# -- V\n",
    "mask_im = ecoimshow(mask, cmap=bg_cmap, Hp=Hp * (H / H_), Wp=Wp * (W / W_))\n",
    "sample_counts_im = ecoimshow(sample_map, cmap=\"gray\", alpha=0.5)\n",
    "\n",
    "sampled_cbar = plt.colorbar(sample_counts_im)\n",
    "mask_cbar = plt.colorbar(mask_im, location=\"bottom\")\n",
    "mask_cbar.set_ticks((np.arange(C + 1) + 0.5) * C / (C + 1), labels=[\"bg\"] + cats)"
   ]
  },
  {
   "cell_type": "code",
   "execution_count": 62,
   "metadata": {},
   "outputs": [
    {
     "name": "stderr",
     "output_type": "stream",
     "text": [
      "100%|██████████| 216/216 [00:27<00:00,  7.86it/s]\n"
     ]
    }
   ],
   "source": [
    "# batch sampling for N samples - continued\n",
    "\n",
    "from itertools import product\n",
    "\n",
    "import numpy as np\n",
    "from tqdm import tqdm\n",
    "\n",
    "\n",
    "def sample_tile(row, col):\n",
    "    tile_score = process_tile_score(row, col, update_ground=False)\n",
    "    tile_probability = tile_score / tile_score.sum()\n",
    "\n",
    "    index = np.arange(tile_probability.size)\n",
    "    prob = tile_probability.ravel()\n",
    "    n = sample_map[row // Ht, col // Wt]\n",
    "\n",
    "    ys, xs = np.unravel_index(np.random.choice(index, size=n, p=prob), tile_probability.shape)\n",
    "    yxs = np.stack([ys, xs], axis=1)\n",
    "    yxs += [row, col]  # this is the center of the tile\n",
    "\n",
    "    return yxs\n",
    "\n",
    "yxs_list = []\n",
    "# does not require synchronization\n",
    "for row, col in tqdm(list(product(range(0, H, Ht), range(0, W, Wt)))):\n",
    "    yxs_list.append(sample_tile(row, col))\n",
    "\n",
    "yxs = np.concatenate(yxs_list, axis=0)\n",
    "hws = np.random.uniform(\n",
    "    (1 - size_variation_range), (1 + size_variation_range), (N, 2)\n",
    ") * [h, w]\n",
    "rots = np.random.uniform(-rotation_range, rotation_range, (N, 1))\n",
    "\n",
    "# sampled_patches = np.concatenate([yxs, hws], axis=1)\n",
    "sampled_patches = np.concatenate([yxs, hws, rots], axis=1)"
   ]
  },
  {
   "cell_type": "code",
   "execution_count": 63,
   "metadata": {},
   "outputs": [
    {
     "name": "stderr",
     "output_type": "stream",
     "text": [
      "100%|██████████| 200/200 [00:12<00:00, 16.63it/s]\n"
     ]
    },
    {
     "name": "stdout",
     "output_type": "stream",
     "text": [
      "Sampled stats: 0 14 0.25724838538279565 1.050968794534038\n",
      "Sampled Category Proportions: [0.8866713  0.08995592 0.00764581 0.01572697]\n"
     ]
    },
    {
     "data": {
      "text/plain": [
       "[<BarContainer object of 4 artists>, <BarContainer object of 4 artists>]"
      ]
     },
     "execution_count": 63,
     "metadata": {},
     "output_type": "execute_result"
    },
    {
     "data": {
      "image/png": "[encoded data removed]",
      "text/plain": [
       "<Figure size 1000x500 with 4 Axes>"
      ]
     },
     "metadata": {},
     "output_type": "display_data"
    }
   ],
   "source": [
    "# -- V\n",
    "# import time\n",
    "# from IPython import display\n",
    "from tqdm import tqdm\n",
    "import numpy as np\n",
    "from skimage import draw\n",
    "\n",
    "\n",
    "# Verify Category Area Balance\n",
    "\n",
    "# Get sampled count\n",
    "sampled = np.zeros(mask.shape, dtype=dtype_count)\n",
    "# Calculate sampled category areas\n",
    "sampled_category_areas = np.zeros(C + 1, dtype=dtype_count)\n",
    "category_target = np.arange(C + 1)  # dtype=mask.dtype could slow down the calculation\n",
    "\n",
    "for y, x, hs, ws, rot in tqdm(sampled_patches):\n",
    "    # v2\n",
    "    # y, x = y - h_half, x - w_half\n",
    "    # rr, cc = draw.rectangle((y, x), extent=(hs, ws), shape=(H, W))\n",
    "    # v3: rotate the patch\n",
    "    tl, tr, br, bl = (\n",
    "        (-hs // 2, -ws // 2),\n",
    "        (-hs // 2, ws // 2),\n",
    "        (hs // 2, ws // 2),\n",
    "        (hs // 2, -ws // 2),\n",
    "    )\n",
    "    vertices = np.array([tl, tr, br, bl]).T\n",
    "    rot_mat = np.array([[np.cos(rot), -np.sin(rot)], [np.sin(rot), np.cos(rot)]])\n",
    "    vertices = (rot_mat @ vertices).T\n",
    "    vertices += (y, x)\n",
    "    rr, cc = draw.polygon(vertices[:, 0], vertices[:, 1], shape=(H, W))\n",
    "\n",
    "    # sampled count\n",
    "    sampled[rr, cc] += 1\n",
    "\n",
    "    # sampled category areas\n",
    "    sampled_patch = mask[rr, cc]\n",
    "    # row, col = y + hs // 2, x + ws // 2  # -- d\n",
    "    # print(row, col)  # -- d\n",
    "    # print(sampled_patch.min(), sampled_patch.max())  # -- d\n",
    "    # ecoimshow(mask_colored[rr, cc])  # -- d\n",
    "    # display.clear_output(wait=True)  # -- d\n",
    "    # display.display(plt.gcf())  # -- d\n",
    "    # time.sleep(.1)  # -- d\n",
    "    sampled_category_areas += np.sum(\n",
    "        sampled_patch.reshape(-1, 1) == category_target, axis=0, dtype=dtype_count\n",
    "    )\n",
    "\n",
    "print(\"Sampled stats:\", sampled.min(), sampled.max(), sampled.mean(), sampled.std())\n",
    "# Calculate area proportions\n",
    "sampled_category_proportions = sampled_category_areas / sampled_category_areas.sum()\n",
    "print(\"Sampled Category Proportions:\", sampled_category_proportions)\n",
    "\n",
    "\n",
    "fig, axs = plt.subplots(1, 2, figsize=(10, 5))\n",
    "\n",
    "sampled_level = 1 - 0.5**sampled\n",
    "\n",
    "mask_im = ecoimshow(mask, ax=axs[0], cmap=bg_cmap)\n",
    "sampled_im = ecoimshow(sampled_level, ax=axs[0], cmap=\"gray\", alpha=0.5)\n",
    "\n",
    "sampled_cbar = fig.colorbar(sampled_im, ax=axs[0])\n",
    "mask_cbar = fig.colorbar(mask_im, ax=axs[0], location=\"bottom\")\n",
    "mask_cbar.set_ticks((np.arange(C + 1) + 0.5) * C / (C + 1), labels=[\"bg\"] + cats)\n",
    "\n",
    "\n",
    "series = {\n",
    "    \"Original\": global_category_frequency,\n",
    "    \"Sampled\": sampled_category_proportions,\n",
    "}\n",
    "\n",
    "multiple_bar_chart(series, ax=axs[1], margin=0.1, text_format=\"{:.2%}\")"
   ]
  },
  {
   "cell_type": "code",
   "execution_count": null,
   "metadata": {},
   "outputs": [],
   "source": []
  },
  {
   "cell_type": "code",
   "execution_count": null,
   "metadata": {},
   "outputs": [],
   "source": []
  }
 ],
 "metadata": {
  "kernelspec": {
   "display_name": "py38",
   "language": "python",
   "name": "python3"
  },
  "language_info": {
   "codemirror_mode": {
    "name": "ipython",
    "version": 3
   },
   "file_extension": ".py",
   "mimetype": "text/x-python",
   "name": "python",
   "nbconvert_exporter": "python",
   "pygments_lexer": "ipython3",
   "version": "3.8.13"
  }
 },
 "nbformat": 4,
 "nbformat_minor": 2
}
